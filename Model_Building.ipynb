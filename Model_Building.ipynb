{
  "cells": [
    {
      "cell_type": "code",
      "execution_count": 2,
      "id": "b4d1076f",
      "metadata": {
        "id": "b4d1076f"
      },
      "outputs": [],
      "source": [
        "import numpy as np\n",
        "import pandas as pd\n",
        "import matplotlib.pyplot as plt\n",
        "import seaborn as sns"
      ]
    },
    {
      "cell_type": "code",
      "execution_count": 3,
      "id": "36b9e94f",
      "metadata": {
        "id": "36b9e94f"
      },
      "outputs": [],
      "source": [
        "df = pd.read_csv(\"Cleaned_Table.csv\")"
      ]
    },
    {
      "cell_type": "code",
      "execution_count": 4,
      "id": "f38248c6",
      "metadata": {
        "colab": {
          "base_uri": "https://localhost:8080/",
          "height": 423
        },
        "id": "f38248c6",
        "outputId": "b237102b-ff8a-4da1-9543-41184257f6d2"
      },
      "outputs": [
        {
          "output_type": "execute_result",
          "data": {
            "text/plain": [
              "           gmv  units payment_type product_analytic_sub_category  product_mrp  \\\n",
              "0       3149.0      1          COD                     HomeAudio         6990   \n",
              "1        350.0      1          COD               CameraAccessory          399   \n",
              "2       2800.0      1          COD                     HomeAudio         3000   \n",
              "3        385.0      1      Prepaid               GamingAccessory          699   \n",
              "4        428.0      1      Prepaid               GamingAccessory          999   \n",
              "...        ...    ...          ...                           ...          ...   \n",
              "540602  1399.0      1          COD                     HomeAudio         1999   \n",
              "540603   699.0      1          COD               GamingAccessory          999   \n",
              "540604   215.0      1          COD               CameraAccessory         1999   \n",
              "540605   169.0      1          COD               CameraAccessory          499   \n",
              "540606   945.0      1      Prepaid               GamingAccessory          949   \n",
              "\n",
              "        Holiday_Flag  Pay_Date_Flag  climate  is_colder  weather_affect  \\\n",
              "0                  0              0        2          0               0   \n",
              "1                  0              0        3          0               1   \n",
              "2                  0              0        3          0               1   \n",
              "3                  1              1        3          0               0   \n",
              "4                  1              1        3          0               0   \n",
              "...              ...            ...      ...        ...             ...   \n",
              "540602             0              0        3          0               1   \n",
              "540603             0              0        3          0               0   \n",
              "540604             0              0        3          0               0   \n",
              "540605             0              1        3          0               0   \n",
              "540606             0              0        3          0               0   \n",
              "\n",
              "        is_delayed  \n",
              "0                0  \n",
              "1                0  \n",
              "2                0  \n",
              "3                0  \n",
              "4                0  \n",
              "...            ...  \n",
              "540602           1  \n",
              "540603           0  \n",
              "540604           0  \n",
              "540605           1  \n",
              "540606           0  \n",
              "\n",
              "[540607 rows x 11 columns]"
            ],
            "text/html": [
              "\n",
              "  <div id=\"df-ecececc0-433e-4bb0-8335-80ea1d416f4d\" class=\"colab-df-container\">\n",
              "    <div>\n",
              "<style scoped>\n",
              "    .dataframe tbody tr th:only-of-type {\n",
              "        vertical-align: middle;\n",
              "    }\n",
              "\n",
              "    .dataframe tbody tr th {\n",
              "        vertical-align: top;\n",
              "    }\n",
              "\n",
              "    .dataframe thead th {\n",
              "        text-align: right;\n",
              "    }\n",
              "</style>\n",
              "<table border=\"1\" class=\"dataframe\">\n",
              "  <thead>\n",
              "    <tr style=\"text-align: right;\">\n",
              "      <th></th>\n",
              "      <th>gmv</th>\n",
              "      <th>units</th>\n",
              "      <th>payment_type</th>\n",
              "      <th>product_analytic_sub_category</th>\n",
              "      <th>product_mrp</th>\n",
              "      <th>Holiday_Flag</th>\n",
              "      <th>Pay_Date_Flag</th>\n",
              "      <th>climate</th>\n",
              "      <th>is_colder</th>\n",
              "      <th>weather_affect</th>\n",
              "      <th>is_delayed</th>\n",
              "    </tr>\n",
              "  </thead>\n",
              "  <tbody>\n",
              "    <tr>\n",
              "      <th>0</th>\n",
              "      <td>3149.0</td>\n",
              "      <td>1</td>\n",
              "      <td>COD</td>\n",
              "      <td>HomeAudio</td>\n",
              "      <td>6990</td>\n",
              "      <td>0</td>\n",
              "      <td>0</td>\n",
              "      <td>2</td>\n",
              "      <td>0</td>\n",
              "      <td>0</td>\n",
              "      <td>0</td>\n",
              "    </tr>\n",
              "    <tr>\n",
              "      <th>1</th>\n",
              "      <td>350.0</td>\n",
              "      <td>1</td>\n",
              "      <td>COD</td>\n",
              "      <td>CameraAccessory</td>\n",
              "      <td>399</td>\n",
              "      <td>0</td>\n",
              "      <td>0</td>\n",
              "      <td>3</td>\n",
              "      <td>0</td>\n",
              "      <td>1</td>\n",
              "      <td>0</td>\n",
              "    </tr>\n",
              "    <tr>\n",
              "      <th>2</th>\n",
              "      <td>2800.0</td>\n",
              "      <td>1</td>\n",
              "      <td>COD</td>\n",
              "      <td>HomeAudio</td>\n",
              "      <td>3000</td>\n",
              "      <td>0</td>\n",
              "      <td>0</td>\n",
              "      <td>3</td>\n",
              "      <td>0</td>\n",
              "      <td>1</td>\n",
              "      <td>0</td>\n",
              "    </tr>\n",
              "    <tr>\n",
              "      <th>3</th>\n",
              "      <td>385.0</td>\n",
              "      <td>1</td>\n",
              "      <td>Prepaid</td>\n",
              "      <td>GamingAccessory</td>\n",
              "      <td>699</td>\n",
              "      <td>1</td>\n",
              "      <td>1</td>\n",
              "      <td>3</td>\n",
              "      <td>0</td>\n",
              "      <td>0</td>\n",
              "      <td>0</td>\n",
              "    </tr>\n",
              "    <tr>\n",
              "      <th>4</th>\n",
              "      <td>428.0</td>\n",
              "      <td>1</td>\n",
              "      <td>Prepaid</td>\n",
              "      <td>GamingAccessory</td>\n",
              "      <td>999</td>\n",
              "      <td>1</td>\n",
              "      <td>1</td>\n",
              "      <td>3</td>\n",
              "      <td>0</td>\n",
              "      <td>0</td>\n",
              "      <td>0</td>\n",
              "    </tr>\n",
              "    <tr>\n",
              "      <th>...</th>\n",
              "      <td>...</td>\n",
              "      <td>...</td>\n",
              "      <td>...</td>\n",
              "      <td>...</td>\n",
              "      <td>...</td>\n",
              "      <td>...</td>\n",
              "      <td>...</td>\n",
              "      <td>...</td>\n",
              "      <td>...</td>\n",
              "      <td>...</td>\n",
              "      <td>...</td>\n",
              "    </tr>\n",
              "    <tr>\n",
              "      <th>540602</th>\n",
              "      <td>1399.0</td>\n",
              "      <td>1</td>\n",
              "      <td>COD</td>\n",
              "      <td>HomeAudio</td>\n",
              "      <td>1999</td>\n",
              "      <td>0</td>\n",
              "      <td>0</td>\n",
              "      <td>3</td>\n",
              "      <td>0</td>\n",
              "      <td>1</td>\n",
              "      <td>1</td>\n",
              "    </tr>\n",
              "    <tr>\n",
              "      <th>540603</th>\n",
              "      <td>699.0</td>\n",
              "      <td>1</td>\n",
              "      <td>COD</td>\n",
              "      <td>GamingAccessory</td>\n",
              "      <td>999</td>\n",
              "      <td>0</td>\n",
              "      <td>0</td>\n",
              "      <td>3</td>\n",
              "      <td>0</td>\n",
              "      <td>0</td>\n",
              "      <td>0</td>\n",
              "    </tr>\n",
              "    <tr>\n",
              "      <th>540604</th>\n",
              "      <td>215.0</td>\n",
              "      <td>1</td>\n",
              "      <td>COD</td>\n",
              "      <td>CameraAccessory</td>\n",
              "      <td>1999</td>\n",
              "      <td>0</td>\n",
              "      <td>0</td>\n",
              "      <td>3</td>\n",
              "      <td>0</td>\n",
              "      <td>0</td>\n",
              "      <td>0</td>\n",
              "    </tr>\n",
              "    <tr>\n",
              "      <th>540605</th>\n",
              "      <td>169.0</td>\n",
              "      <td>1</td>\n",
              "      <td>COD</td>\n",
              "      <td>CameraAccessory</td>\n",
              "      <td>499</td>\n",
              "      <td>0</td>\n",
              "      <td>1</td>\n",
              "      <td>3</td>\n",
              "      <td>0</td>\n",
              "      <td>0</td>\n",
              "      <td>1</td>\n",
              "    </tr>\n",
              "    <tr>\n",
              "      <th>540606</th>\n",
              "      <td>945.0</td>\n",
              "      <td>1</td>\n",
              "      <td>Prepaid</td>\n",
              "      <td>GamingAccessory</td>\n",
              "      <td>949</td>\n",
              "      <td>0</td>\n",
              "      <td>0</td>\n",
              "      <td>3</td>\n",
              "      <td>0</td>\n",
              "      <td>0</td>\n",
              "      <td>0</td>\n",
              "    </tr>\n",
              "  </tbody>\n",
              "</table>\n",
              "<p>540607 rows × 11 columns</p>\n",
              "</div>\n",
              "    <div class=\"colab-df-buttons\">\n",
              "\n",
              "  <div class=\"colab-df-container\">\n",
              "    <button class=\"colab-df-convert\" onclick=\"convertToInteractive('df-ecececc0-433e-4bb0-8335-80ea1d416f4d')\"\n",
              "            title=\"Convert this dataframe to an interactive table.\"\n",
              "            style=\"display:none;\">\n",
              "\n",
              "  <svg xmlns=\"http://www.w3.org/2000/svg\" height=\"24px\" viewBox=\"0 -960 960 960\">\n",
              "    <path d=\"M120-120v-720h720v720H120Zm60-500h600v-160H180v160Zm220 220h160v-160H400v160Zm0 220h160v-160H400v160ZM180-400h160v-160H180v160Zm440 0h160v-160H620v160ZM180-180h160v-160H180v160Zm440 0h160v-160H620v160Z\"/>\n",
              "  </svg>\n",
              "    </button>\n",
              "\n",
              "  <style>\n",
              "    .colab-df-container {\n",
              "      display:flex;\n",
              "      gap: 12px;\n",
              "    }\n",
              "\n",
              "    .colab-df-convert {\n",
              "      background-color: #E8F0FE;\n",
              "      border: none;\n",
              "      border-radius: 50%;\n",
              "      cursor: pointer;\n",
              "      display: none;\n",
              "      fill: #1967D2;\n",
              "      height: 32px;\n",
              "      padding: 0 0 0 0;\n",
              "      width: 32px;\n",
              "    }\n",
              "\n",
              "    .colab-df-convert:hover {\n",
              "      background-color: #E2EBFA;\n",
              "      box-shadow: 0px 1px 2px rgba(60, 64, 67, 0.3), 0px 1px 3px 1px rgba(60, 64, 67, 0.15);\n",
              "      fill: #174EA6;\n",
              "    }\n",
              "\n",
              "    .colab-df-buttons div {\n",
              "      margin-bottom: 4px;\n",
              "    }\n",
              "\n",
              "    [theme=dark] .colab-df-convert {\n",
              "      background-color: #3B4455;\n",
              "      fill: #D2E3FC;\n",
              "    }\n",
              "\n",
              "    [theme=dark] .colab-df-convert:hover {\n",
              "      background-color: #434B5C;\n",
              "      box-shadow: 0px 1px 3px 1px rgba(0, 0, 0, 0.15);\n",
              "      filter: drop-shadow(0px 1px 2px rgba(0, 0, 0, 0.3));\n",
              "      fill: #FFFFFF;\n",
              "    }\n",
              "  </style>\n",
              "\n",
              "    <script>\n",
              "      const buttonEl =\n",
              "        document.querySelector('#df-ecececc0-433e-4bb0-8335-80ea1d416f4d button.colab-df-convert');\n",
              "      buttonEl.style.display =\n",
              "        google.colab.kernel.accessAllowed ? 'block' : 'none';\n",
              "\n",
              "      async function convertToInteractive(key) {\n",
              "        const element = document.querySelector('#df-ecececc0-433e-4bb0-8335-80ea1d416f4d');\n",
              "        const dataTable =\n",
              "          await google.colab.kernel.invokeFunction('convertToInteractive',\n",
              "                                                    [key], {});\n",
              "        if (!dataTable) return;\n",
              "\n",
              "        const docLinkHtml = 'Like what you see? Visit the ' +\n",
              "          '<a target=\"_blank\" href=https://colab.research.google.com/notebooks/data_table.ipynb>data table notebook</a>'\n",
              "          + ' to learn more about interactive tables.';\n",
              "        element.innerHTML = '';\n",
              "        dataTable['output_type'] = 'display_data';\n",
              "        await google.colab.output.renderOutput(dataTable, element);\n",
              "        const docLink = document.createElement('div');\n",
              "        docLink.innerHTML = docLinkHtml;\n",
              "        element.appendChild(docLink);\n",
              "      }\n",
              "    </script>\n",
              "  </div>\n",
              "\n",
              "\n",
              "<div id=\"df-06a9c98e-c262-49d4-a23d-47ef5051ddba\">\n",
              "  <button class=\"colab-df-quickchart\" onclick=\"quickchart('df-06a9c98e-c262-49d4-a23d-47ef5051ddba')\"\n",
              "            title=\"Suggest charts\"\n",
              "            style=\"display:none;\">\n",
              "\n",
              "<svg xmlns=\"http://www.w3.org/2000/svg\" height=\"24px\"viewBox=\"0 0 24 24\"\n",
              "     width=\"24px\">\n",
              "    <g>\n",
              "        <path d=\"M19 3H5c-1.1 0-2 .9-2 2v14c0 1.1.9 2 2 2h14c1.1 0 2-.9 2-2V5c0-1.1-.9-2-2-2zM9 17H7v-7h2v7zm4 0h-2V7h2v10zm4 0h-2v-4h2v4z\"/>\n",
              "    </g>\n",
              "</svg>\n",
              "  </button>\n",
              "\n",
              "<style>\n",
              "  .colab-df-quickchart {\n",
              "      --bg-color: #E8F0FE;\n",
              "      --fill-color: #1967D2;\n",
              "      --hover-bg-color: #E2EBFA;\n",
              "      --hover-fill-color: #174EA6;\n",
              "      --disabled-fill-color: #AAA;\n",
              "      --disabled-bg-color: #DDD;\n",
              "  }\n",
              "\n",
              "  [theme=dark] .colab-df-quickchart {\n",
              "      --bg-color: #3B4455;\n",
              "      --fill-color: #D2E3FC;\n",
              "      --hover-bg-color: #434B5C;\n",
              "      --hover-fill-color: #FFFFFF;\n",
              "      --disabled-bg-color: #3B4455;\n",
              "      --disabled-fill-color: #666;\n",
              "  }\n",
              "\n",
              "  .colab-df-quickchart {\n",
              "    background-color: var(--bg-color);\n",
              "    border: none;\n",
              "    border-radius: 50%;\n",
              "    cursor: pointer;\n",
              "    display: none;\n",
              "    fill: var(--fill-color);\n",
              "    height: 32px;\n",
              "    padding: 0;\n",
              "    width: 32px;\n",
              "  }\n",
              "\n",
              "  .colab-df-quickchart:hover {\n",
              "    background-color: var(--hover-bg-color);\n",
              "    box-shadow: 0 1px 2px rgba(60, 64, 67, 0.3), 0 1px 3px 1px rgba(60, 64, 67, 0.15);\n",
              "    fill: var(--button-hover-fill-color);\n",
              "  }\n",
              "\n",
              "  .colab-df-quickchart-complete:disabled,\n",
              "  .colab-df-quickchart-complete:disabled:hover {\n",
              "    background-color: var(--disabled-bg-color);\n",
              "    fill: var(--disabled-fill-color);\n",
              "    box-shadow: none;\n",
              "  }\n",
              "\n",
              "  .colab-df-spinner {\n",
              "    border: 2px solid var(--fill-color);\n",
              "    border-color: transparent;\n",
              "    border-bottom-color: var(--fill-color);\n",
              "    animation:\n",
              "      spin 1s steps(1) infinite;\n",
              "  }\n",
              "\n",
              "  @keyframes spin {\n",
              "    0% {\n",
              "      border-color: transparent;\n",
              "      border-bottom-color: var(--fill-color);\n",
              "      border-left-color: var(--fill-color);\n",
              "    }\n",
              "    20% {\n",
              "      border-color: transparent;\n",
              "      border-left-color: var(--fill-color);\n",
              "      border-top-color: var(--fill-color);\n",
              "    }\n",
              "    30% {\n",
              "      border-color: transparent;\n",
              "      border-left-color: var(--fill-color);\n",
              "      border-top-color: var(--fill-color);\n",
              "      border-right-color: var(--fill-color);\n",
              "    }\n",
              "    40% {\n",
              "      border-color: transparent;\n",
              "      border-right-color: var(--fill-color);\n",
              "      border-top-color: var(--fill-color);\n",
              "    }\n",
              "    60% {\n",
              "      border-color: transparent;\n",
              "      border-right-color: var(--fill-color);\n",
              "    }\n",
              "    80% {\n",
              "      border-color: transparent;\n",
              "      border-right-color: var(--fill-color);\n",
              "      border-bottom-color: var(--fill-color);\n",
              "    }\n",
              "    90% {\n",
              "      border-color: transparent;\n",
              "      border-bottom-color: var(--fill-color);\n",
              "    }\n",
              "  }\n",
              "</style>\n",
              "\n",
              "  <script>\n",
              "    async function quickchart(key) {\n",
              "      const quickchartButtonEl =\n",
              "        document.querySelector('#' + key + ' button');\n",
              "      quickchartButtonEl.disabled = true;  // To prevent multiple clicks.\n",
              "      quickchartButtonEl.classList.add('colab-df-spinner');\n",
              "      try {\n",
              "        const charts = await google.colab.kernel.invokeFunction(\n",
              "            'suggestCharts', [key], {});\n",
              "      } catch (error) {\n",
              "        console.error('Error during call to suggestCharts:', error);\n",
              "      }\n",
              "      quickchartButtonEl.classList.remove('colab-df-spinner');\n",
              "      quickchartButtonEl.classList.add('colab-df-quickchart-complete');\n",
              "    }\n",
              "    (() => {\n",
              "      let quickchartButtonEl =\n",
              "        document.querySelector('#df-06a9c98e-c262-49d4-a23d-47ef5051ddba button');\n",
              "      quickchartButtonEl.style.display =\n",
              "        google.colab.kernel.accessAllowed ? 'block' : 'none';\n",
              "    })();\n",
              "  </script>\n",
              "</div>\n",
              "\n",
              "  <div id=\"id_6e8a58fc-babb-4fb7-a782-c9c6de865c23\">\n",
              "    <style>\n",
              "      .colab-df-generate {\n",
              "        background-color: #E8F0FE;\n",
              "        border: none;\n",
              "        border-radius: 50%;\n",
              "        cursor: pointer;\n",
              "        display: none;\n",
              "        fill: #1967D2;\n",
              "        height: 32px;\n",
              "        padding: 0 0 0 0;\n",
              "        width: 32px;\n",
              "      }\n",
              "\n",
              "      .colab-df-generate:hover {\n",
              "        background-color: #E2EBFA;\n",
              "        box-shadow: 0px 1px 2px rgba(60, 64, 67, 0.3), 0px 1px 3px 1px rgba(60, 64, 67, 0.15);\n",
              "        fill: #174EA6;\n",
              "      }\n",
              "\n",
              "      [theme=dark] .colab-df-generate {\n",
              "        background-color: #3B4455;\n",
              "        fill: #D2E3FC;\n",
              "      }\n",
              "\n",
              "      [theme=dark] .colab-df-generate:hover {\n",
              "        background-color: #434B5C;\n",
              "        box-shadow: 0px 1px 3px 1px rgba(0, 0, 0, 0.15);\n",
              "        filter: drop-shadow(0px 1px 2px rgba(0, 0, 0, 0.3));\n",
              "        fill: #FFFFFF;\n",
              "      }\n",
              "    </style>\n",
              "    <button class=\"colab-df-generate\" onclick=\"generateWithVariable('df')\"\n",
              "            title=\"Generate code using this dataframe.\"\n",
              "            style=\"display:none;\">\n",
              "\n",
              "  <svg xmlns=\"http://www.w3.org/2000/svg\" height=\"24px\"viewBox=\"0 0 24 24\"\n",
              "       width=\"24px\">\n",
              "    <path d=\"M7,19H8.4L18.45,9,17,7.55,7,17.6ZM5,21V16.75L18.45,3.32a2,2,0,0,1,2.83,0l1.4,1.43a1.91,1.91,0,0,1,.58,1.4,1.91,1.91,0,0,1-.58,1.4L9.25,21ZM18.45,9,17,7.55Zm-12,3A5.31,5.31,0,0,0,4.9,8.1,5.31,5.31,0,0,0,1,6.5,5.31,5.31,0,0,0,4.9,4.9,5.31,5.31,0,0,0,6.5,1,5.31,5.31,0,0,0,8.1,4.9,5.31,5.31,0,0,0,12,6.5,5.46,5.46,0,0,0,6.5,12Z\"/>\n",
              "  </svg>\n",
              "    </button>\n",
              "    <script>\n",
              "      (() => {\n",
              "      const buttonEl =\n",
              "        document.querySelector('#id_6e8a58fc-babb-4fb7-a782-c9c6de865c23 button.colab-df-generate');\n",
              "      buttonEl.style.display =\n",
              "        google.colab.kernel.accessAllowed ? 'block' : 'none';\n",
              "\n",
              "      buttonEl.onclick = () => {\n",
              "        google.colab.notebook.generateWithVariable('df');\n",
              "      }\n",
              "      })();\n",
              "    </script>\n",
              "  </div>\n",
              "\n",
              "    </div>\n",
              "  </div>\n"
            ],
            "application/vnd.google.colaboratory.intrinsic+json": {
              "type": "dataframe",
              "variable_name": "df"
            }
          },
          "metadata": {},
          "execution_count": 4
        }
      ],
      "source": [
        "df"
      ]
    },
    {
      "cell_type": "code",
      "execution_count": 5,
      "id": "e0e3e2a4",
      "metadata": {
        "id": "e0e3e2a4"
      },
      "outputs": [],
      "source": [
        "df[\"payment_type\"] = df[\"payment_type\"].apply(lambda i : 1 if i == \"COD\" else 0)"
      ]
    },
    {
      "cell_type": "code",
      "execution_count": 6,
      "id": "b503ced8",
      "metadata": {
        "id": "b503ced8"
      },
      "outputs": [],
      "source": [
        "df_CA = df[df[\"product_analytic_sub_category\"] == \"CameraAccessory\"]"
      ]
    },
    {
      "cell_type": "code",
      "execution_count": 7,
      "id": "f64638f2",
      "metadata": {
        "id": "f64638f2"
      },
      "outputs": [],
      "source": [
        "df_GA = df[df[\"product_analytic_sub_category\"] == \"GamingAccessory\"]"
      ]
    },
    {
      "cell_type": "code",
      "execution_count": 8,
      "id": "d871379c",
      "metadata": {
        "id": "d871379c"
      },
      "outputs": [],
      "source": [
        "df_HA = df[df[\"product_analytic_sub_category\"] == \"HomeAudio\"]"
      ]
    },
    {
      "cell_type": "code",
      "execution_count": 9,
      "id": "e2bd0bcf",
      "metadata": {
        "colab": {
          "base_uri": "https://localhost:8080/"
        },
        "id": "e2bd0bcf",
        "outputId": "a417aea0-032d-47a3-bacc-b6441f278f43"
      },
      "outputs": [
        {
          "output_type": "stream",
          "name": "stderr",
          "text": [
            "<ipython-input-9-4457b5d61c49>:1: SettingWithCopyWarning: \n",
            "A value is trying to be set on a copy of a slice from a DataFrame.\n",
            "Try using .loc[row_indexer,col_indexer] = value instead\n",
            "\n",
            "See the caveats in the documentation: https://pandas.pydata.org/pandas-docs/stable/user_guide/indexing.html#returning-a-view-versus-a-copy\n",
            "  df_GA['gmv'] =  np.log1p(df_GA['gmv'])\n"
          ]
        }
      ],
      "source": [
        "df_GA['gmv'] =  np.log1p(df_GA['gmv'])"
      ]
    },
    {
      "cell_type": "code",
      "execution_count": 10,
      "id": "ff7f3974",
      "metadata": {
        "colab": {
          "base_uri": "https://localhost:8080/"
        },
        "id": "ff7f3974",
        "outputId": "99a454b3-8adb-4774-930b-b4d1948019c7"
      },
      "outputs": [
        {
          "output_type": "stream",
          "name": "stderr",
          "text": [
            "<ipython-input-10-32df8c37ef4d>:1: SettingWithCopyWarning: \n",
            "A value is trying to be set on a copy of a slice from a DataFrame.\n",
            "Try using .loc[row_indexer,col_indexer] = value instead\n",
            "\n",
            "See the caveats in the documentation: https://pandas.pydata.org/pandas-docs/stable/user_guide/indexing.html#returning-a-view-versus-a-copy\n",
            "  df_CA['gmv'] =  np.log1p(df_CA['gmv'])\n"
          ]
        }
      ],
      "source": [
        "df_CA['gmv'] =  np.log1p(df_CA['gmv'])"
      ]
    },
    {
      "cell_type": "code",
      "source": [
        "df_HA['gmv'] =  np.log1p(df_HA['gmv'])"
      ],
      "metadata": {
        "colab": {
          "base_uri": "https://localhost:8080/"
        },
        "id": "-OSgsTDPkShw",
        "outputId": "31e76050-fd70-4e69-938c-a6887ce15707"
      },
      "id": "-OSgsTDPkShw",
      "execution_count": 11,
      "outputs": [
        {
          "output_type": "stream",
          "name": "stderr",
          "text": [
            "<ipython-input-11-8ae4139188d5>:1: SettingWithCopyWarning: \n",
            "A value is trying to be set on a copy of a slice from a DataFrame.\n",
            "Try using .loc[row_indexer,col_indexer] = value instead\n",
            "\n",
            "See the caveats in the documentation: https://pandas.pydata.org/pandas-docs/stable/user_guide/indexing.html#returning-a-view-versus-a-copy\n",
            "  df_HA['gmv'] =  np.log1p(df_HA['gmv'])\n"
          ]
        }
      ]
    },
    {
      "cell_type": "code",
      "execution_count": 12,
      "id": "a145f26f",
      "metadata": {
        "colab": {
          "base_uri": "https://localhost:8080/"
        },
        "id": "a145f26f",
        "outputId": "ce96e63e-038e-42d4-eb81-2dcaca56bb79"
      },
      "outputs": [
        {
          "output_type": "execute_result",
          "data": {
            "text/plain": [
              "-0.06411280695810176"
            ]
          },
          "metadata": {},
          "execution_count": 12
        }
      ],
      "source": [
        "df_CA['gmv'].skew()"
      ]
    },
    {
      "cell_type": "code",
      "execution_count": 13,
      "id": "b885be04",
      "metadata": {
        "colab": {
          "base_uri": "https://localhost:8080/"
        },
        "id": "b885be04",
        "outputId": "2f00845b-9145-433f-e465-a7ebef7aa875"
      },
      "outputs": [
        {
          "output_type": "execute_result",
          "data": {
            "text/plain": [
              "0.047081548797294606"
            ]
          },
          "metadata": {},
          "execution_count": 13
        }
      ],
      "source": [
        "df_GA['gmv'].skew()"
      ]
    },
    {
      "cell_type": "code",
      "execution_count": 14,
      "id": "30499324",
      "metadata": {
        "colab": {
          "base_uri": "https://localhost:8080/"
        },
        "id": "30499324",
        "outputId": "44f2c01b-9688-4e1c-e3b8-a9870230db09"
      },
      "outputs": [
        {
          "output_type": "execute_result",
          "data": {
            "text/plain": [
              "-0.8289998180346324"
            ]
          },
          "metadata": {},
          "execution_count": 14
        }
      ],
      "source": [
        "df_HA['gmv'].skew()"
      ]
    },
    {
      "cell_type": "code",
      "execution_count": 18,
      "id": "21a9d3e3",
      "metadata": {
        "id": "21a9d3e3"
      },
      "outputs": [],
      "source": [
        "from sklearn.model_selection import train_test_split\n",
        "from sklearn.metrics import mean_absolute_error, mean_squared_error, r2_score\n",
        "from sklearn.tree import DecisionTreeRegressor\n",
        "from sklearn.ensemble import ExtraTreesRegressor\n",
        "from sklearn.ensemble import RandomForestRegressor\n",
        "from sklearn.ensemble import AdaBoostRegressor\n",
        "from sklearn.ensemble import GradientBoostingRegressor\n",
        "from xgboost import XGBRegressor\n",
        "from sklearn.preprocessing import StandardScaler\n",
        "from sklearn.model_selection import GridSearchCV"
      ]
    },
    {
      "cell_type": "code",
      "execution_count": 27,
      "id": "4eeeaf77",
      "metadata": {
        "id": "4eeeaf77"
      },
      "outputs": [],
      "source": [
        "def algorithm_train_test_accuracy(x_train, x_test, y_train, y_test, algorithm):\n",
        "\n",
        "    model = algorithm().fit(x_train, y_train)\n",
        "    y_pred_train = model.predict(x_train)\n",
        "    y_pred_test = model.predict(x_test)\n",
        "    r2_train = r2_score(y_train, y_pred_train)\n",
        "    r2_test = r2_score(y_test, y_pred_test)\n",
        "\n",
        "    # algo = str(algorithm).split(\"'\")[1].split(\".\")[-1]\n",
        "    accuracy = {'algorithm': algorithm.__name__,\n",
        "                'R2_train' : r2_train,\n",
        "                'R2_test'  : r2_test}\n",
        "\n",
        "    return accuracy"
      ]
    },
    {
      "cell_type": "code",
      "execution_count": 16,
      "id": "b29ba36b",
      "metadata": {
        "id": "b29ba36b"
      },
      "outputs": [],
      "source": [
        "def ml_regression(df):\n",
        "    x = df.drop(columns=['gmv','product_analytic_sub_category'], axis=1)\n",
        "    y = df['gmv']\n",
        "    x_train, x_test, y_train, y_test = train_test_split(x,y,test_size=0.2,random_state=42)\n",
        "    print(algorithm_train_test_accuracy(x_train, x_test, y_train, y_test, DecisionTreeRegressor))\n",
        "    print(algorithm_train_test_accuracy(x_train, x_test, y_train, y_test, ExtraTreesRegressor))\n",
        "    print(algorithm_train_test_accuracy(x_train, x_test, y_train, y_test, RandomForestRegressor))\n",
        "    print(algorithm_train_test_accuracy(x_train, x_test, y_train, y_test, AdaBoostRegressor))\n",
        "    print(algorithm_train_test_accuracy(x_train, x_test, y_train, y_test, GradientBoostingRegressor))\n",
        "    print(algorithm_train_test_accuracy(x_train, x_test, y_train, y_test, XGBRegressor))"
      ]
    },
    {
      "cell_type": "code",
      "execution_count": 28,
      "id": "ab15fdd0",
      "metadata": {
        "colab": {
          "base_uri": "https://localhost:8080/"
        },
        "id": "ab15fdd0",
        "outputId": "b962409c-ab2f-4915-87f0-639ff0ee0d9b"
      },
      "outputs": [
        {
          "output_type": "stream",
          "name": "stdout",
          "text": [
            "{'algorithm': 'DecisionTreeRegressor', 'R2_train': 0.7445218066160006, 'R2_test': 0.7183756417742319}\n",
            "{'algorithm': 'ExtraTreesRegressor', 'R2_train': 0.7445218066160006, 'R2_test': 0.7165149987794325}\n",
            "{'algorithm': 'RandomForestRegressor', 'R2_train': 0.7436040911092112, 'R2_test': 0.7211445556577982}\n",
            "{'algorithm': 'AdaBoostRegressor', 'R2_train': 0.39619758911493663, 'R2_test': 0.3963323588830535}\n",
            "{'algorithm': 'GradientBoostingRegressor', 'R2_train': 0.6307521088538877, 'R2_test': 0.6281955711282325}\n",
            "{'algorithm': 'XGBRegressor', 'R2_train': 0.6936722700539186, 'R2_test': 0.6869358861979971}\n"
          ]
        }
      ],
      "source": [
        "# Camera Accesory\n",
        "ml_regression(df_CA)"
      ]
    },
    {
      "cell_type": "code",
      "execution_count": 29,
      "id": "27fca966",
      "metadata": {
        "colab": {
          "base_uri": "https://localhost:8080/"
        },
        "id": "27fca966",
        "outputId": "32c7e00a-8740-43b7-a4bb-6b16731fb81e"
      },
      "outputs": [
        {
          "output_type": "stream",
          "name": "stdout",
          "text": [
            "{'algorithm': 'DecisionTreeRegressor', 'R2_train': 0.8292178463759462, 'R2_test': 0.8144440862319668}\n",
            "{'algorithm': 'ExtraTreesRegressor', 'R2_train': 0.8292178463759462, 'R2_test': 0.8138275570050946}\n",
            "{'algorithm': 'RandomForestRegressor', 'R2_train': 0.8286222089823558, 'R2_test': 0.8170815015035904}\n",
            "{'algorithm': 'AdaBoostRegressor', 'R2_train': 0.44464750632921846, 'R2_test': 0.4468519528235325}\n",
            "{'algorithm': 'GradientBoostingRegressor', 'R2_train': 0.7525911959833282, 'R2_test': 0.7531962115484925}\n",
            "{'algorithm': 'XGBRegressor', 'R2_train': 0.8062331129997128, 'R2_test': 0.8028998659334794}\n"
          ]
        }
      ],
      "source": [
        "# Gaming Accesory\n",
        "ml_regression(df_GA)"
      ]
    },
    {
      "cell_type": "code",
      "execution_count": 52,
      "id": "a5cc018c",
      "metadata": {
        "colab": {
          "base_uri": "https://localhost:8080/"
        },
        "id": "a5cc018c",
        "outputId": "cced2053-1bdf-4595-868e-5b35786df006"
      },
      "outputs": [
        {
          "output_type": "stream",
          "name": "stdout",
          "text": [
            "{'algorithm': 'DecisionTreeRegressor', 'R2_train': 0.9524035539237486, 'R2_test': 0.9405552876045974}\n",
            "{'algorithm': 'ExtraTreesRegressor', 'R2_train': 0.9524035539237486, 'R2_test': 0.9399100315990049}\n",
            "{'algorithm': 'RandomForestRegressor', 'R2_train': 0.9519539671255625, 'R2_test': 0.941972887356858}\n",
            "{'algorithm': 'AdaBoostRegressor', 'R2_train': 0.8227991871498812, 'R2_test': 0.8238971365496934}\n",
            "{'algorithm': 'GradientBoostingRegressor', 'R2_train': 0.9064630776290175, 'R2_test': 0.9074255696794873}\n",
            "{'algorithm': 'XGBRegressor', 'R2_train': 0.9351517943196126, 'R2_test': 0.9295737816877844}\n"
          ]
        }
      ],
      "source": [
        "# Home Audio\n",
        "ml_regression(df_HA)"
      ]
    },
    {
      "cell_type": "code",
      "execution_count": null,
      "id": "c78342bc",
      "metadata": {
        "id": "c78342bc"
      },
      "outputs": [],
      "source": [
        "# From these observations Random Forest Regressor give best model. Adjusting the hyper parameter will give better result"
      ]
    },
    {
      "cell_type": "code",
      "execution_count": 54,
      "id": "dd05947c",
      "metadata": {
        "id": "dd05947c"
      },
      "outputs": [],
      "source": [
        "def random_forest(df):\n",
        "    x = df.drop(columns=['gmv','product_analytic_sub_category'], axis=1)\n",
        "    y = df['gmv']\n",
        "    scaler = StandardScaler()\n",
        "    x_scaled = scaler.fit_transform(x)\n",
        "    x_train, x_test, y_train, y_test = train_test_split(x_scaled,y,test_size=0.2,random_state=42)\n",
        "\n",
        "    param_grid = {\n",
        "        'max_depth': [30,50],\n",
        "        'min_samples_split': [2],\n",
        "        'min_samples_leaf': [2]\n",
        "    }\n",
        "    rf = RandomForestRegressor()\n",
        "    grid_search = GridSearchCV(estimator=rf, param_grid=param_grid, cv=5, scoring='r2')\n",
        "    grid_search.fit(x_train, y_train)\n",
        "    best_model = grid_search.best_estimator_\n",
        "    y_pred = best_model.predict(x_test)\n",
        "    print(\"Best hyperparameters:\", grid_search.best_params_)\n",
        "    mae = mean_absolute_error(y_test, y_pred)\n",
        "    mse = mean_squared_error(y_test, y_pred)\n",
        "    r2 = r2_score(y_test, y_pred)\n",
        "    print(f\"Mean Absolute Error: {mae}\")\n",
        "    print('Mean squared error:', mse)\n",
        "    print('Root Mean squared error:', np.sqrt(mse))\n",
        "    print('R-squared:', r2)\n",
        "    return best_model"
      ]
    },
    {
      "cell_type": "code",
      "execution_count": 47,
      "id": "081b6352",
      "metadata": {
        "colab": {
          "base_uri": "https://localhost:8080/"
        },
        "id": "081b6352",
        "outputId": "18d6970d-63f1-420c-ed89-f12fd4f5a47c"
      },
      "outputs": [
        {
          "output_type": "stream",
          "name": "stdout",
          "text": [
            "Best hyperparameters: {'max_depth': 30, 'min_samples_leaf': 2, 'min_samples_split': 2}\n",
            "Mean Absolute Error: 0.24843042092895382\n",
            "Mean squared error: 0.17255763123486648\n",
            "Root Mean squared error: 0.4154005672057592\n",
            "R-squared: 0.7222769928394428\n"
          ]
        }
      ],
      "source": [
        "model_CA = random_forest(df_CA)"
      ]
    },
    {
      "cell_type": "code",
      "execution_count": 48,
      "id": "52e51f61",
      "metadata": {
        "colab": {
          "base_uri": "https://localhost:8080/"
        },
        "id": "52e51f61",
        "outputId": "92bac85e-50fb-4097-a420-3c63515904b8"
      },
      "outputs": [
        {
          "output_type": "stream",
          "name": "stdout",
          "text": [
            "Best hyperparameters: {'max_depth': 50, 'min_samples_leaf': 2, 'min_samples_split': 2}\n",
            "Mean Absolute Error: 0.22256618695127672\n",
            "Mean squared error: 0.1385749314731455\n",
            "Root Mean squared error: 0.37225653986618623\n",
            "R-squared: 0.8183803252306376\n"
          ]
        }
      ],
      "source": [
        "model_GA = random_forest(df_GA)"
      ]
    },
    {
      "cell_type": "code",
      "execution_count": 55,
      "id": "7c0676f8",
      "metadata": {
        "colab": {
          "base_uri": "https://localhost:8080/"
        },
        "id": "7c0676f8",
        "outputId": "82fbdab0-3880-4600-f59e-6e4c83360ad9"
      },
      "outputs": [
        {
          "output_type": "stream",
          "name": "stdout",
          "text": [
            "Best hyperparameters: {'max_depth': 30, 'min_samples_leaf': 2, 'min_samples_split': 2}\n",
            "Mean Absolute Error: 0.09141548763019472\n",
            "Mean squared error: 0.024406893217550123\n",
            "Root Mean squared error: 0.15622705661168337\n",
            "R-squared: 0.9427472953824467\n",
            "          feature  importance\n",
            "2     product_mrp    0.973440\n",
            "5         climate    0.007226\n",
            "0           units    0.006534\n",
            "8      is_delayed    0.004897\n",
            "6       is_colder    0.003088\n",
            "1    payment_type    0.002054\n",
            "7  weather_affect    0.001516\n",
            "4   Pay_Date_Flag    0.000825\n",
            "3    Holiday_Flag    0.000420\n"
          ]
        }
      ],
      "source": [
        "model_HA = random_forest(df_HA)"
      ]
    },
    {
      "cell_type": "code",
      "execution_count": null,
      "id": "13a2d5ab",
      "metadata": {
        "id": "13a2d5ab"
      },
      "outputs": [],
      "source": [
        "# Deep Learning"
      ]
    },
    {
      "cell_type": "code",
      "execution_count": 17,
      "id": "a70f43c6",
      "metadata": {
        "id": "a70f43c6"
      },
      "outputs": [],
      "source": [
        "import tensorflow as tf\n",
        "from sklearn.model_selection import train_test_split\n",
        "from sklearn.preprocessing import StandardScaler, PowerTransformer\n",
        "from sklearn.metrics import mean_squared_error, mean_absolute_error, r2_score\n",
        "from tensorflow.keras.layers import LeakyReLU, Dropout\n",
        "from tensorflow.keras import backend as K\n",
        "import keras_tuner as kt"
      ]
    },
    {
      "cell_type": "code",
      "execution_count": 19,
      "id": "8378f9d0",
      "metadata": {
        "id": "8378f9d0"
      },
      "outputs": [],
      "source": [
        "def deep_learning(df):\n",
        "    x = df.drop(columns=['gmv','product_analytic_sub_category'], axis=1)\n",
        "    y = df['gmv']\n",
        "    scaler = StandardScaler()\n",
        "    x_scaled = scaler.fit_transform(x)\n",
        "    x_train, x_test, y_train, y_test = train_test_split(x_scaled,y,test_size=0.2,random_state=42)\n",
        "\n",
        "    # Defining the ANN model\n",
        "    model = tf.keras.Sequential([\n",
        "        tf.keras.layers.Dense(512, activation='relu', input_shape=(x_train.shape[1],), kernel_regularizer=tf.keras.regularizers.l2(0.001)),\n",
        "        tf.keras.layers.BatchNormalization(),\n",
        "        tf.keras.layers.Dropout(0.4),\n",
        "        tf.keras.layers.Dense(128, activation='relu', kernel_regularizer=tf.keras.regularizers.l2(0.001)),\n",
        "        tf.keras.layers.BatchNormalization(),\n",
        "        tf.keras.layers.Dropout(0.4),\n",
        "        tf.keras.layers.Dense(32, activation='relu'),\n",
        "        tf.keras.layers.Dense(1, activation='linear')\n",
        "    ])\n",
        "\n",
        "    # Compile the model with learning rate\n",
        "    model.compile(optimizer=tf.keras.optimizers.Adam(learning_rate=0.0005), loss='mean_squared_error')\n",
        "\n",
        "    # Train the model with EarlyStopping and Reducing the Learning Rate\n",
        "    history = model.fit(x_train, y_train, validation_data=(x_test, y_test), epochs=30, batch_size=64, callbacks=[\n",
        "        tf.keras.callbacks.EarlyStopping(monitor='val_loss', patience=50, restore_best_weights=True),\n",
        "        tf.keras.callbacks.ReduceLROnPlateau(monitor='val_loss', factor=0.5, patience=10)\n",
        "    ])\n",
        "\n",
        "\n",
        "    y_pred = model.predict(x_test)\n",
        "\n",
        "    # Evaluate the model\n",
        "    mse = mean_squared_error(y_test, y_pred)\n",
        "    rmse = np.sqrt(mse)\n",
        "    r2 = r2_score(y_test, y_pred)\n",
        "    mae = mean_absolute_error(y_test, y_pred)\n",
        "\n",
        "    metrics = {\n",
        "        'R2': r2,\n",
        "        'Mean Absolute Error': mae,\n",
        "        'Mean Squared Error': mse,\n",
        "        'Root Mean Squared Error': rmse\n",
        "    }\n",
        "\n",
        "    print(metrics)\n"
      ]
    },
    {
      "cell_type": "code",
      "execution_count": 71,
      "id": "23dc7159",
      "metadata": {
        "colab": {
          "base_uri": "https://localhost:8080/"
        },
        "id": "23dc7159",
        "outputId": "57054a89-e5ec-494e-cd3e-41ad2bdb6e73"
      },
      "outputs": [
        {
          "output_type": "stream",
          "name": "stdout",
          "text": [
            "Epoch 1/30\n"
          ]
        },
        {
          "output_type": "stream",
          "name": "stderr",
          "text": [
            "/usr/local/lib/python3.10/dist-packages/keras/src/layers/core/dense.py:87: UserWarning: Do not pass an `input_shape`/`input_dim` argument to a layer. When using Sequential models, prefer using an `Input(shape)` object as the first layer in the model instead.\n",
            "  super().__init__(activity_regularizer=activity_regularizer, **kwargs)\n"
          ]
        },
        {
          "output_type": "stream",
          "name": "stdout",
          "text": [
            "\u001b[1m1468/1468\u001b[0m \u001b[32m━━━━━━━━━━━━━━━━━━━━\u001b[0m\u001b[37m\u001b[0m \u001b[1m13s\u001b[0m 6ms/step - loss: 5.5756 - val_loss: 0.3647 - learning_rate: 5.0000e-04\n",
            "Epoch 2/30\n",
            "\u001b[1m1468/1468\u001b[0m \u001b[32m━━━━━━━━━━━━━━━━━━━━\u001b[0m\u001b[37m\u001b[0m \u001b[1m11s\u001b[0m 6ms/step - loss: 0.8283 - val_loss: 0.3332 - learning_rate: 5.0000e-04\n",
            "Epoch 3/30\n",
            "\u001b[1m1468/1468\u001b[0m \u001b[32m━━━━━━━━━━━━━━━━━━━━\u001b[0m\u001b[37m\u001b[0m \u001b[1m10s\u001b[0m 6ms/step - loss: 0.6602 - val_loss: 0.2963 - learning_rate: 5.0000e-04\n",
            "Epoch 4/30\n",
            "\u001b[1m1468/1468\u001b[0m \u001b[32m━━━━━━━━━━━━━━━━━━━━\u001b[0m\u001b[37m\u001b[0m \u001b[1m9s\u001b[0m 5ms/step - loss: 0.5048 - val_loss: 0.2825 - learning_rate: 5.0000e-04\n",
            "Epoch 5/30\n",
            "\u001b[1m1468/1468\u001b[0m \u001b[32m━━━━━━━━━━━━━━━━━━━━\u001b[0m\u001b[37m\u001b[0m \u001b[1m10s\u001b[0m 5ms/step - loss: 0.3662 - val_loss: 0.2162 - learning_rate: 5.0000e-04\n",
            "Epoch 6/30\n",
            "\u001b[1m1468/1468\u001b[0m \u001b[32m━━━━━━━━━━━━━━━━━━━━\u001b[0m\u001b[37m\u001b[0m \u001b[1m12s\u001b[0m 6ms/step - loss: 0.2559 - val_loss: 0.1635 - learning_rate: 5.0000e-04\n",
            "Epoch 7/30\n",
            "\u001b[1m1468/1468\u001b[0m \u001b[32m━━━━━━━━━━━━━━━━━━━━\u001b[0m\u001b[37m\u001b[0m \u001b[1m10s\u001b[0m 7ms/step - loss: 0.1852 - val_loss: 0.1263 - learning_rate: 5.0000e-04\n",
            "Epoch 8/30\n",
            "\u001b[1m1468/1468\u001b[0m \u001b[32m━━━━━━━━━━━━━━━━━━━━\u001b[0m\u001b[37m\u001b[0m \u001b[1m9s\u001b[0m 6ms/step - loss: 0.1520 - val_loss: 0.1156 - learning_rate: 5.0000e-04\n",
            "Epoch 9/30\n",
            "\u001b[1m1468/1468\u001b[0m \u001b[32m━━━━━━━━━━━━━━━━━━━━\u001b[0m\u001b[37m\u001b[0m \u001b[1m11s\u001b[0m 6ms/step - loss: 0.1340 - val_loss: 0.1050 - learning_rate: 5.0000e-04\n",
            "Epoch 10/30\n",
            "\u001b[1m1468/1468\u001b[0m \u001b[32m━━━━━━━━━━━━━━━━━━━━\u001b[0m\u001b[37m\u001b[0m \u001b[1m10s\u001b[0m 7ms/step - loss: 0.1237 - val_loss: 0.1112 - learning_rate: 5.0000e-04\n",
            "Epoch 11/30\n",
            "\u001b[1m1468/1468\u001b[0m \u001b[32m━━━━━━━━━━━━━━━━━━━━\u001b[0m\u001b[37m\u001b[0m \u001b[1m10s\u001b[0m 7ms/step - loss: 0.1169 - val_loss: 0.1024 - learning_rate: 5.0000e-04\n",
            "Epoch 12/30\n",
            "\u001b[1m1468/1468\u001b[0m \u001b[32m━━━━━━━━━━━━━━━━━━━━\u001b[0m\u001b[37m\u001b[0m \u001b[1m8s\u001b[0m 5ms/step - loss: 0.1114 - val_loss: 0.0928 - learning_rate: 5.0000e-04\n",
            "Epoch 13/30\n",
            "\u001b[1m1468/1468\u001b[0m \u001b[32m━━━━━━━━━━━━━━━━━━━━\u001b[0m\u001b[37m\u001b[0m \u001b[1m11s\u001b[0m 6ms/step - loss: 0.1032 - val_loss: 0.1000 - learning_rate: 5.0000e-04\n",
            "Epoch 14/30\n",
            "\u001b[1m1468/1468\u001b[0m \u001b[32m━━━━━━━━━━━━━━━━━━━━\u001b[0m\u001b[37m\u001b[0m \u001b[1m11s\u001b[0m 7ms/step - loss: 0.1003 - val_loss: 0.0914 - learning_rate: 5.0000e-04\n",
            "Epoch 15/30\n",
            "\u001b[1m1468/1468\u001b[0m \u001b[32m━━━━━━━━━━━━━━━━━━━━\u001b[0m\u001b[37m\u001b[0m \u001b[1m9s\u001b[0m 6ms/step - loss: 0.1014 - val_loss: 0.0924 - learning_rate: 5.0000e-04\n",
            "Epoch 16/30\n",
            "\u001b[1m1468/1468\u001b[0m \u001b[32m━━━━━━━━━━━━━━━━━━━━\u001b[0m\u001b[37m\u001b[0m \u001b[1m8s\u001b[0m 6ms/step - loss: 0.0977 - val_loss: 0.0888 - learning_rate: 5.0000e-04\n",
            "Epoch 17/30\n",
            "\u001b[1m1468/1468\u001b[0m \u001b[32m━━━━━━━━━━━━━━━━━━━━\u001b[0m\u001b[37m\u001b[0m \u001b[1m12s\u001b[0m 7ms/step - loss: 0.1001 - val_loss: 0.0886 - learning_rate: 5.0000e-04\n",
            "Epoch 18/30\n",
            "\u001b[1m1468/1468\u001b[0m \u001b[32m━━━━━━━━━━━━━━━━━━━━\u001b[0m\u001b[37m\u001b[0m \u001b[1m9s\u001b[0m 6ms/step - loss: 0.0949 - val_loss: 0.0918 - learning_rate: 5.0000e-04\n",
            "Epoch 19/30\n",
            "\u001b[1m1468/1468\u001b[0m \u001b[32m━━━━━━━━━━━━━━━━━━━━\u001b[0m\u001b[37m\u001b[0m \u001b[1m8s\u001b[0m 5ms/step - loss: 0.0946 - val_loss: 0.0913 - learning_rate: 5.0000e-04\n",
            "Epoch 20/30\n",
            "\u001b[1m1468/1468\u001b[0m \u001b[32m━━━━━━━━━━━━━━━━━━━━\u001b[0m\u001b[37m\u001b[0m \u001b[1m10s\u001b[0m 7ms/step - loss: 0.0945 - val_loss: 0.0876 - learning_rate: 5.0000e-04\n",
            "Epoch 21/30\n",
            "\u001b[1m1468/1468\u001b[0m \u001b[32m━━━━━━━━━━━━━━━━━━━━\u001b[0m\u001b[37m\u001b[0m \u001b[1m9s\u001b[0m 6ms/step - loss: 0.0929 - val_loss: 0.0923 - learning_rate: 5.0000e-04\n",
            "Epoch 22/30\n",
            "\u001b[1m1468/1468\u001b[0m \u001b[32m━━━━━━━━━━━━━━━━━━━━\u001b[0m\u001b[37m\u001b[0m \u001b[1m8s\u001b[0m 5ms/step - loss: 0.0942 - val_loss: 0.0871 - learning_rate: 5.0000e-04\n",
            "Epoch 23/30\n",
            "\u001b[1m1468/1468\u001b[0m \u001b[32m━━━━━━━━━━━━━━━━━━━━\u001b[0m\u001b[37m\u001b[0m \u001b[1m12s\u001b[0m 7ms/step - loss: 0.0922 - val_loss: 0.0901 - learning_rate: 5.0000e-04\n",
            "Epoch 24/30\n",
            "\u001b[1m1468/1468\u001b[0m \u001b[32m━━━━━━━━━━━━━━━━━━━━\u001b[0m\u001b[37m\u001b[0m \u001b[1m10s\u001b[0m 7ms/step - loss: 0.0923 - val_loss: 0.0855 - learning_rate: 5.0000e-04\n",
            "Epoch 25/30\n",
            "\u001b[1m1468/1468\u001b[0m \u001b[32m━━━━━━━━━━━━━━━━━━━━\u001b[0m\u001b[37m\u001b[0m \u001b[1m8s\u001b[0m 5ms/step - loss: 0.0922 - val_loss: 0.0861 - learning_rate: 5.0000e-04\n",
            "Epoch 26/30\n",
            "\u001b[1m1468/1468\u001b[0m \u001b[32m━━━━━━━━━━━━━━━━━━━━\u001b[0m\u001b[37m\u001b[0m \u001b[1m11s\u001b[0m 6ms/step - loss: 0.0915 - val_loss: 0.0851 - learning_rate: 5.0000e-04\n",
            "Epoch 27/30\n",
            "\u001b[1m1468/1468\u001b[0m \u001b[32m━━━━━━━━━━━━━━━━━━━━\u001b[0m\u001b[37m\u001b[0m \u001b[1m11s\u001b[0m 7ms/step - loss: 0.0926 - val_loss: 0.0834 - learning_rate: 5.0000e-04\n",
            "Epoch 28/30\n",
            "\u001b[1m1468/1468\u001b[0m \u001b[32m━━━━━━━━━━━━━━━━━━━━\u001b[0m\u001b[37m\u001b[0m \u001b[1m10s\u001b[0m 7ms/step - loss: 0.0906 - val_loss: 0.0856 - learning_rate: 5.0000e-04\n",
            "Epoch 29/30\n",
            "\u001b[1m1468/1468\u001b[0m \u001b[32m━━━━━━━━━━━━━━━━━━━━\u001b[0m\u001b[37m\u001b[0m \u001b[1m8s\u001b[0m 6ms/step - loss: 0.0907 - val_loss: 0.0871 - learning_rate: 5.0000e-04\n",
            "Epoch 30/30\n",
            "\u001b[1m1468/1468\u001b[0m \u001b[32m━━━━━━━━━━━━━━━━━━━━\u001b[0m\u001b[37m\u001b[0m \u001b[1m10s\u001b[0m 6ms/step - loss: 0.0901 - val_loss: 0.0861 - learning_rate: 5.0000e-04\n",
            "\u001b[1m734/734\u001b[0m \u001b[32m━━━━━━━━━━━━━━━━━━━━\u001b[0m\u001b[37m\u001b[0m \u001b[1m1s\u001b[0m 2ms/step\n",
            "{'R2': 0.8148806881633371, 'Mean Absolute Error': 0.21131789888900354, 'Mean Squared Error': 0.07891657357822975, 'Root Mean Squared Error': 0.28092093830512127}\n"
          ]
        }
      ],
      "source": [
        "deep_learning(df_HA)"
      ]
    },
    {
      "cell_type": "code",
      "execution_count": 20,
      "id": "af0a7174",
      "metadata": {
        "colab": {
          "base_uri": "https://localhost:8080/"
        },
        "id": "af0a7174",
        "outputId": "3d6b9d86-61ac-4245-93a2-daaa7adfd56d"
      },
      "outputs": [
        {
          "output_type": "stream",
          "name": "stdout",
          "text": [
            "Epoch 1/30\n"
          ]
        },
        {
          "output_type": "stream",
          "name": "stderr",
          "text": [
            "/usr/local/lib/python3.10/dist-packages/keras/src/layers/core/dense.py:87: UserWarning: Do not pass an `input_shape`/`input_dim` argument to a layer. When using Sequential models, prefer using an `Input(shape)` object as the first layer in the model instead.\n",
            "  super().__init__(activity_regularizer=activity_regularizer, **kwargs)\n"
          ]
        },
        {
          "output_type": "stream",
          "name": "stdout",
          "text": [
            "\u001b[1m2811/2811\u001b[0m \u001b[32m━━━━━━━━━━━━━━━━━━━━\u001b[0m\u001b[37m\u001b[0m \u001b[1m19s\u001b[0m 6ms/step - loss: 4.4062 - val_loss: 0.6123 - learning_rate: 5.0000e-04\n",
            "Epoch 2/30\n",
            "\u001b[1m2811/2811\u001b[0m \u001b[32m━━━━━━━━━━━━━━━━━━━━\u001b[0m\u001b[37m\u001b[0m \u001b[1m19s\u001b[0m 7ms/step - loss: 0.8271 - val_loss: 0.4975 - learning_rate: 5.0000e-04\n",
            "Epoch 3/30\n",
            "\u001b[1m2811/2811\u001b[0m \u001b[32m━━━━━━━━━━━━━━━━━━━━\u001b[0m\u001b[37m\u001b[0m \u001b[1m18s\u001b[0m 6ms/step - loss: 0.5960 - val_loss: 0.4444 - learning_rate: 5.0000e-04\n",
            "Epoch 4/30\n",
            "\u001b[1m2811/2811\u001b[0m \u001b[32m━━━━━━━━━━━━━━━━━━━━\u001b[0m\u001b[37m\u001b[0m \u001b[1m22s\u001b[0m 6ms/step - loss: 0.4603 - val_loss: 0.3695 - learning_rate: 5.0000e-04\n",
            "Epoch 5/30\n",
            "\u001b[1m2811/2811\u001b[0m \u001b[32m━━━━━━━━━━━━━━━━━━━━\u001b[0m\u001b[37m\u001b[0m \u001b[1m19s\u001b[0m 6ms/step - loss: 0.4003 - val_loss: 0.3529 - learning_rate: 5.0000e-04\n",
            "Epoch 6/30\n",
            "\u001b[1m2811/2811\u001b[0m \u001b[32m━━━━━━━━━━━━━━━━━━━━\u001b[0m\u001b[37m\u001b[0m \u001b[1m16s\u001b[0m 6ms/step - loss: 0.3749 - val_loss: 0.3386 - learning_rate: 5.0000e-04\n",
            "Epoch 7/30\n",
            "\u001b[1m2811/2811\u001b[0m \u001b[32m━━━━━━━━━━━━━━━━━━━━\u001b[0m\u001b[37m\u001b[0m \u001b[1m16s\u001b[0m 6ms/step - loss: 0.3582 - val_loss: 0.3379 - learning_rate: 5.0000e-04\n",
            "Epoch 8/30\n",
            "\u001b[1m2811/2811\u001b[0m \u001b[32m━━━━━━━━━━━━━━━━━━━━\u001b[0m\u001b[37m\u001b[0m \u001b[1m18s\u001b[0m 6ms/step - loss: 0.3531 - val_loss: 0.3248 - learning_rate: 5.0000e-04\n",
            "Epoch 9/30\n",
            "\u001b[1m2811/2811\u001b[0m \u001b[32m━━━━━━━━━━━━━━━━━━━━\u001b[0m\u001b[37m\u001b[0m \u001b[1m19s\u001b[0m 6ms/step - loss: 0.3433 - val_loss: 0.3242 - learning_rate: 5.0000e-04\n",
            "Epoch 10/30\n",
            "\u001b[1m2811/2811\u001b[0m \u001b[32m━━━━━━━━━━━━━━━━━━━━\u001b[0m\u001b[37m\u001b[0m \u001b[1m16s\u001b[0m 6ms/step - loss: 0.3379 - val_loss: 0.3205 - learning_rate: 5.0000e-04\n",
            "Epoch 11/30\n",
            "\u001b[1m2811/2811\u001b[0m \u001b[32m━━━━━━━━━━━━━━━━━━━━\u001b[0m\u001b[37m\u001b[0m \u001b[1m21s\u001b[0m 6ms/step - loss: 0.3298 - val_loss: 0.3156 - learning_rate: 5.0000e-04\n",
            "Epoch 12/30\n",
            "\u001b[1m2811/2811\u001b[0m \u001b[32m━━━━━━━━━━━━━━━━━━━━\u001b[0m\u001b[37m\u001b[0m \u001b[1m16s\u001b[0m 6ms/step - loss: 0.3293 - val_loss: 0.3222 - learning_rate: 5.0000e-04\n",
            "Epoch 13/30\n",
            "\u001b[1m2811/2811\u001b[0m \u001b[32m━━━━━━━━━━━━━━━━━━━━\u001b[0m\u001b[37m\u001b[0m \u001b[1m21s\u001b[0m 6ms/step - loss: 0.3274 - val_loss: 0.3193 - learning_rate: 5.0000e-04\n",
            "Epoch 14/30\n",
            "\u001b[1m2811/2811\u001b[0m \u001b[32m━━━━━━━━━━━━━━━━━━━━\u001b[0m\u001b[37m\u001b[0m \u001b[1m21s\u001b[0m 6ms/step - loss: 0.3226 - val_loss: 0.3215 - learning_rate: 5.0000e-04\n",
            "Epoch 15/30\n",
            "\u001b[1m2811/2811\u001b[0m \u001b[32m━━━━━━━━━━━━━━━━━━━━\u001b[0m\u001b[37m\u001b[0m \u001b[1m16s\u001b[0m 6ms/step - loss: 0.3241 - val_loss: 0.3139 - learning_rate: 5.0000e-04\n",
            "Epoch 16/30\n",
            "\u001b[1m2811/2811\u001b[0m \u001b[32m━━━━━━━━━━━━━━━━━━━━\u001b[0m\u001b[37m\u001b[0m \u001b[1m16s\u001b[0m 6ms/step - loss: 0.3247 - val_loss: 0.3079 - learning_rate: 5.0000e-04\n",
            "Epoch 17/30\n",
            "\u001b[1m2811/2811\u001b[0m \u001b[32m━━━━━━━━━━━━━━━━━━━━\u001b[0m\u001b[37m\u001b[0m \u001b[1m18s\u001b[0m 6ms/step - loss: 0.3125 - val_loss: 0.3146 - learning_rate: 5.0000e-04\n",
            "Epoch 18/30\n",
            "\u001b[1m2811/2811\u001b[0m \u001b[32m━━━━━━━━━━━━━━━━━━━━\u001b[0m\u001b[37m\u001b[0m \u001b[1m16s\u001b[0m 6ms/step - loss: 0.3180 - val_loss: 0.3135 - learning_rate: 5.0000e-04\n",
            "Epoch 19/30\n",
            "\u001b[1m2811/2811\u001b[0m \u001b[32m━━━━━━━━━━━━━━━━━━━━\u001b[0m\u001b[37m\u001b[0m \u001b[1m17s\u001b[0m 6ms/step - loss: 0.3144 - val_loss: 0.3141 - learning_rate: 5.0000e-04\n",
            "Epoch 20/30\n",
            "\u001b[1m2811/2811\u001b[0m \u001b[32m━━━━━━━━━━━━━━━━━━━━\u001b[0m\u001b[37m\u001b[0m \u001b[1m21s\u001b[0m 6ms/step - loss: 0.3159 - val_loss: 0.3080 - learning_rate: 5.0000e-04\n",
            "Epoch 21/30\n",
            "\u001b[1m2811/2811\u001b[0m \u001b[32m━━━━━━━━━━━━━━━━━━━━\u001b[0m\u001b[37m\u001b[0m \u001b[1m17s\u001b[0m 6ms/step - loss: 0.3164 - val_loss: 0.3062 - learning_rate: 5.0000e-04\n",
            "Epoch 22/30\n",
            "\u001b[1m2811/2811\u001b[0m \u001b[32m━━━━━━━━━━━━━━━━━━━━\u001b[0m\u001b[37m\u001b[0m \u001b[1m23s\u001b[0m 7ms/step - loss: 0.3083 - val_loss: 0.3108 - learning_rate: 5.0000e-04\n",
            "Epoch 23/30\n",
            "\u001b[1m2811/2811\u001b[0m \u001b[32m━━━━━━━━━━━━━━━━━━━━\u001b[0m\u001b[37m\u001b[0m \u001b[1m19s\u001b[0m 6ms/step - loss: 0.3131 - val_loss: 0.3105 - learning_rate: 5.0000e-04\n",
            "Epoch 24/30\n",
            "\u001b[1m2811/2811\u001b[0m \u001b[32m━━━━━━━━━━━━━━━━━━━━\u001b[0m\u001b[37m\u001b[0m \u001b[1m20s\u001b[0m 6ms/step - loss: 0.3141 - val_loss: 0.3051 - learning_rate: 5.0000e-04\n",
            "Epoch 25/30\n",
            "\u001b[1m2811/2811\u001b[0m \u001b[32m━━━━━━━━━━━━━━━━━━━━\u001b[0m\u001b[37m\u001b[0m \u001b[1m17s\u001b[0m 6ms/step - loss: 0.3099 - val_loss: 0.3065 - learning_rate: 5.0000e-04\n",
            "Epoch 26/30\n",
            "\u001b[1m2811/2811\u001b[0m \u001b[32m━━━━━━━━━━━━━━━━━━━━\u001b[0m\u001b[37m\u001b[0m \u001b[1m19s\u001b[0m 7ms/step - loss: 0.3082 - val_loss: 0.3045 - learning_rate: 5.0000e-04\n",
            "Epoch 27/30\n",
            "\u001b[1m2811/2811\u001b[0m \u001b[32m━━━━━━━━━━━━━━━━━━━━\u001b[0m\u001b[37m\u001b[0m \u001b[1m18s\u001b[0m 7ms/step - loss: 0.3178 - val_loss: 0.3134 - learning_rate: 5.0000e-04\n",
            "Epoch 28/30\n",
            "\u001b[1m2811/2811\u001b[0m \u001b[32m━━━━━━━━━━━━━━━━━━━━\u001b[0m\u001b[37m\u001b[0m \u001b[1m17s\u001b[0m 6ms/step - loss: 0.3145 - val_loss: 0.3054 - learning_rate: 5.0000e-04\n",
            "Epoch 29/30\n",
            "\u001b[1m2811/2811\u001b[0m \u001b[32m━━━━━━━━━━━━━━━━━━━━\u001b[0m\u001b[37m\u001b[0m \u001b[1m20s\u001b[0m 6ms/step - loss: 0.3130 - val_loss: 0.3029 - learning_rate: 5.0000e-04\n",
            "Epoch 30/30\n",
            "\u001b[1m2811/2811\u001b[0m \u001b[32m━━━━━━━━━━━━━━━━━━━━\u001b[0m\u001b[37m\u001b[0m \u001b[1m20s\u001b[0m 6ms/step - loss: 0.3104 - val_loss: 0.3068 - learning_rate: 5.0000e-04\n",
            "\u001b[1m1406/1406\u001b[0m \u001b[32m━━━━━━━━━━━━━━━━━━━━\u001b[0m\u001b[37m\u001b[0m \u001b[1m2s\u001b[0m 2ms/step\n",
            "{'R2': 0.5299884167149481, 'Mean Absolute Error': 0.40272855636577715, 'Mean Squared Error': 0.29203228891198707, 'Root Mean Squared Error': 0.5404001192745863}\n"
          ]
        }
      ],
      "source": [
        "deep_learning(df_CA)"
      ]
    },
    {
      "cell_type": "code",
      "execution_count": 21,
      "id": "fc7d1910",
      "metadata": {
        "colab": {
          "base_uri": "https://localhost:8080/"
        },
        "id": "fc7d1910",
        "outputId": "3cbbed06-c67e-4335-a820-5add2d4d967d"
      },
      "outputs": [
        {
          "output_type": "stream",
          "name": "stdout",
          "text": [
            "Epoch 1/30\n"
          ]
        },
        {
          "output_type": "stream",
          "name": "stderr",
          "text": [
            "/usr/local/lib/python3.10/dist-packages/keras/src/layers/core/dense.py:87: UserWarning: Do not pass an `input_shape`/`input_dim` argument to a layer. When using Sequential models, prefer using an `Input(shape)` object as the first layer in the model instead.\n",
            "  super().__init__(activity_regularizer=activity_regularizer, **kwargs)\n"
          ]
        },
        {
          "output_type": "stream",
          "name": "stdout",
          "text": [
            "\u001b[1m2480/2480\u001b[0m \u001b[32m━━━━━━━━━━━━━━━━━━━━\u001b[0m\u001b[37m\u001b[0m \u001b[1m19s\u001b[0m 6ms/step - loss: 6.5742 - val_loss: 0.5405 - learning_rate: 5.0000e-04\n",
            "Epoch 2/30\n",
            "\u001b[1m2480/2480\u001b[0m \u001b[32m━━━━━━━━━━━━━━━━━━━━\u001b[0m\u001b[37m\u001b[0m \u001b[1m20s\u001b[0m 6ms/step - loss: 0.8663 - val_loss: 0.4536 - learning_rate: 5.0000e-04\n",
            "Epoch 3/30\n",
            "\u001b[1m2480/2480\u001b[0m \u001b[32m━━━━━━━━━━━━━━━━━━━━\u001b[0m\u001b[37m\u001b[0m \u001b[1m20s\u001b[0m 6ms/step - loss: 0.6439 - val_loss: 0.4082 - learning_rate: 5.0000e-04\n",
            "Epoch 4/30\n",
            "\u001b[1m2480/2480\u001b[0m \u001b[32m━━━━━━━━━━━━━━━━━━━━\u001b[0m\u001b[37m\u001b[0m \u001b[1m15s\u001b[0m 6ms/step - loss: 0.4864 - val_loss: 0.3415 - learning_rate: 5.0000e-04\n",
            "Epoch 5/30\n",
            "\u001b[1m2480/2480\u001b[0m \u001b[32m━━━━━━━━━━━━━━━━━━━━\u001b[0m\u001b[37m\u001b[0m \u001b[1m20s\u001b[0m 6ms/step - loss: 0.3988 - val_loss: 0.3138 - learning_rate: 5.0000e-04\n",
            "Epoch 6/30\n",
            "\u001b[1m2480/2480\u001b[0m \u001b[32m━━━━━━━━━━━━━━━━━━━━\u001b[0m\u001b[37m\u001b[0m \u001b[1m15s\u001b[0m 6ms/step - loss: 0.3486 - val_loss: 0.2934 - learning_rate: 5.0000e-04\n",
            "Epoch 7/30\n",
            "\u001b[1m2480/2480\u001b[0m \u001b[32m━━━━━━━━━━━━━━━━━━━━\u001b[0m\u001b[37m\u001b[0m \u001b[1m16s\u001b[0m 6ms/step - loss: 0.3328 - val_loss: 0.2887 - learning_rate: 5.0000e-04\n",
            "Epoch 8/30\n",
            "\u001b[1m2480/2480\u001b[0m \u001b[32m━━━━━━━━━━━━━━━━━━━━\u001b[0m\u001b[37m\u001b[0m \u001b[1m20s\u001b[0m 6ms/step - loss: 0.3211 - val_loss: 0.2893 - learning_rate: 5.0000e-04\n",
            "Epoch 9/30\n",
            "\u001b[1m2480/2480\u001b[0m \u001b[32m━━━━━━━━━━━━━━━━━━━━\u001b[0m\u001b[37m\u001b[0m \u001b[1m15s\u001b[0m 6ms/step - loss: 0.3093 - val_loss: 0.2915 - learning_rate: 5.0000e-04\n",
            "Epoch 10/30\n",
            "\u001b[1m2480/2480\u001b[0m \u001b[32m━━━━━━━━━━━━━━━━━━━━\u001b[0m\u001b[37m\u001b[0m \u001b[1m15s\u001b[0m 6ms/step - loss: 0.3079 - val_loss: 0.2777 - learning_rate: 5.0000e-04\n",
            "Epoch 11/30\n",
            "\u001b[1m2480/2480\u001b[0m \u001b[32m━━━━━━━━━━━━━━━━━━━━\u001b[0m\u001b[37m\u001b[0m \u001b[1m20s\u001b[0m 6ms/step - loss: 0.3021 - val_loss: 0.2780 - learning_rate: 5.0000e-04\n",
            "Epoch 12/30\n",
            "\u001b[1m2480/2480\u001b[0m \u001b[32m━━━━━━━━━━━━━━━━━━━━\u001b[0m\u001b[37m\u001b[0m \u001b[1m16s\u001b[0m 6ms/step - loss: 0.2967 - val_loss: 0.2750 - learning_rate: 5.0000e-04\n",
            "Epoch 13/30\n",
            "\u001b[1m2480/2480\u001b[0m \u001b[32m━━━━━━━━━━━━━━━━━━━━\u001b[0m\u001b[37m\u001b[0m \u001b[1m15s\u001b[0m 6ms/step - loss: 0.2971 - val_loss: 0.2731 - learning_rate: 5.0000e-04\n",
            "Epoch 14/30\n",
            "\u001b[1m2480/2480\u001b[0m \u001b[32m━━━━━━━━━━━━━━━━━━━━\u001b[0m\u001b[37m\u001b[0m \u001b[1m20s\u001b[0m 6ms/step - loss: 0.2921 - val_loss: 0.2716 - learning_rate: 5.0000e-04\n",
            "Epoch 15/30\n",
            "\u001b[1m2480/2480\u001b[0m \u001b[32m━━━━━━━━━━━━━━━━━━━━\u001b[0m\u001b[37m\u001b[0m \u001b[1m21s\u001b[0m 6ms/step - loss: 0.2868 - val_loss: 0.2687 - learning_rate: 5.0000e-04\n",
            "Epoch 16/30\n",
            "\u001b[1m2480/2480\u001b[0m \u001b[32m━━━━━━━━━━━━━━━━━━━━\u001b[0m\u001b[37m\u001b[0m \u001b[1m20s\u001b[0m 6ms/step - loss: 0.2849 - val_loss: 0.2705 - learning_rate: 5.0000e-04\n",
            "Epoch 17/30\n",
            "\u001b[1m2480/2480\u001b[0m \u001b[32m━━━━━━━━━━━━━━━━━━━━\u001b[0m\u001b[37m\u001b[0m \u001b[1m21s\u001b[0m 6ms/step - loss: 0.2920 - val_loss: 0.2672 - learning_rate: 5.0000e-04\n",
            "Epoch 18/30\n",
            "\u001b[1m2480/2480\u001b[0m \u001b[32m━━━━━━━━━━━━━━━━━━━━\u001b[0m\u001b[37m\u001b[0m \u001b[1m20s\u001b[0m 6ms/step - loss: 0.2880 - val_loss: 0.2697 - learning_rate: 5.0000e-04\n",
            "Epoch 19/30\n",
            "\u001b[1m2480/2480\u001b[0m \u001b[32m━━━━━━━━━━━━━━━━━━━━\u001b[0m\u001b[37m\u001b[0m \u001b[1m15s\u001b[0m 6ms/step - loss: 0.2891 - val_loss: 0.2683 - learning_rate: 5.0000e-04\n",
            "Epoch 20/30\n",
            "\u001b[1m2480/2480\u001b[0m \u001b[32m━━━━━━━━━━━━━━━━━━━━\u001b[0m\u001b[37m\u001b[0m \u001b[1m21s\u001b[0m 6ms/step - loss: 0.2903 - val_loss: 0.2642 - learning_rate: 5.0000e-04\n",
            "Epoch 21/30\n",
            "\u001b[1m2480/2480\u001b[0m \u001b[32m━━━━━━━━━━━━━━━━━━━━\u001b[0m\u001b[37m\u001b[0m \u001b[1m15s\u001b[0m 6ms/step - loss: 0.2862 - val_loss: 0.2660 - learning_rate: 5.0000e-04\n",
            "Epoch 22/30\n",
            "\u001b[1m2480/2480\u001b[0m \u001b[32m━━━━━━━━━━━━━━━━━━━━\u001b[0m\u001b[37m\u001b[0m \u001b[1m15s\u001b[0m 6ms/step - loss: 0.2790 - val_loss: 0.2664 - learning_rate: 5.0000e-04\n",
            "Epoch 23/30\n",
            "\u001b[1m2480/2480\u001b[0m \u001b[32m━━━━━━━━━━━━━━━━━━━━\u001b[0m\u001b[37m\u001b[0m \u001b[1m20s\u001b[0m 6ms/step - loss: 0.2848 - val_loss: 0.2633 - learning_rate: 5.0000e-04\n",
            "Epoch 24/30\n",
            "\u001b[1m2480/2480\u001b[0m \u001b[32m━━━━━━━━━━━━━━━━━━━━\u001b[0m\u001b[37m\u001b[0m \u001b[1m20s\u001b[0m 6ms/step - loss: 0.2842 - val_loss: 0.2679 - learning_rate: 5.0000e-04\n",
            "Epoch 25/30\n",
            "\u001b[1m2480/2480\u001b[0m \u001b[32m━━━━━━━━━━━━━━━━━━━━\u001b[0m\u001b[37m\u001b[0m \u001b[1m20s\u001b[0m 6ms/step - loss: 0.2847 - val_loss: 0.2666 - learning_rate: 5.0000e-04\n",
            "Epoch 26/30\n",
            "\u001b[1m2480/2480\u001b[0m \u001b[32m━━━━━━━━━━━━━━━━━━━━\u001b[0m\u001b[37m\u001b[0m \u001b[1m21s\u001b[0m 6ms/step - loss: 0.2848 - val_loss: 0.2624 - learning_rate: 5.0000e-04\n",
            "Epoch 27/30\n",
            "\u001b[1m2480/2480\u001b[0m \u001b[32m━━━━━━━━━━━━━━━━━━━━\u001b[0m\u001b[37m\u001b[0m \u001b[1m20s\u001b[0m 6ms/step - loss: 0.2862 - val_loss: 0.2648 - learning_rate: 5.0000e-04\n",
            "Epoch 28/30\n",
            "\u001b[1m2480/2480\u001b[0m \u001b[32m━━━━━━━━━━━━━━━━━━━━\u001b[0m\u001b[37m\u001b[0m \u001b[1m20s\u001b[0m 6ms/step - loss: 0.2817 - val_loss: 0.2712 - learning_rate: 5.0000e-04\n",
            "Epoch 29/30\n",
            "\u001b[1m2480/2480\u001b[0m \u001b[32m━━━━━━━━━━━━━━━━━━━━\u001b[0m\u001b[37m\u001b[0m \u001b[1m14s\u001b[0m 6ms/step - loss: 0.2806 - val_loss: 0.2625 - learning_rate: 5.0000e-04\n",
            "Epoch 30/30\n",
            "\u001b[1m2480/2480\u001b[0m \u001b[32m━━━━━━━━━━━━━━━━━━━━\u001b[0m\u001b[37m\u001b[0m \u001b[1m20s\u001b[0m 6ms/step - loss: 0.2783 - val_loss: 0.2643 - learning_rate: 5.0000e-04\n",
            "\u001b[1m1240/1240\u001b[0m \u001b[32m━━━━━━━━━━━━━━━━━━━━\u001b[0m\u001b[37m\u001b[0m \u001b[1m2s\u001b[0m 2ms/step\n",
            "{'R2': 0.6712610607737997, 'Mean Absolute Error': 0.3609063033178394, 'Mean Squared Error': 0.25082621711373077, 'Root Mean Squared Error': 0.5008255356046961}\n"
          ]
        }
      ],
      "source": [
        "deep_learning(df_GA)"
      ]
    },
    {
      "cell_type": "markdown",
      "source": [
        "For each category, Based on the R-squared values, the RandomForestRegressor emerged as the best model. The DecisionTreeRegressor and ExtraTreesRegressor also performed well. Models like XGBRegressor and GradientBoostingRegressor showed moderate performance, while AdaBoostRegressor underperformed . The deep learning model gives competitive performance but not surpassing RandomForest."
      ],
      "metadata": {
        "id": "SLkVRkXvie16"
      },
      "id": "SLkVRkXvie16"
    }
  ],
  "metadata": {
    "kernelspec": {
      "display_name": "Python 3 (ipykernel)",
      "language": "python",
      "name": "python3"
    },
    "language_info": {
      "codemirror_mode": {
        "name": "ipython",
        "version": 3
      },
      "file_extension": ".py",
      "mimetype": "text/x-python",
      "name": "python",
      "nbconvert_exporter": "python",
      "pygments_lexer": "ipython3",
      "version": "3.11.5"
    },
    "colab": {
      "provenance": []
    }
  },
  "nbformat": 4,
  "nbformat_minor": 5
}